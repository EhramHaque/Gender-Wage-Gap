{
 "cells": [
  {
   "cell_type": "markdown",
   "metadata": {
    "id": "cHcSsBR1K9uf"
   },
   "source": [
    "# **GENDER WAGE GAP**\n",
    "\n",
    "Here we ask and answer the following question:\n",
    "\n",
    "### **What is the difference in predicted wages between men and women with the same job-relevant characteristics?**\n",
    "\n",
    "Our data comes from the March Supplement of the U.S. Current Population Survey, year 2012. We focus on the single (never married) workers with education levels equal to high-school, some college, or college graduates. The sample size is about 4,000.\n",
    "\n",
    "Our outcome variable Y is hourly wage, and our X’s are various characteristics of workers such as gender, experience, education, and geographical indicators.\n",
    "\n",
    "-----------------------------\n",
    "## **Dataset** \n",
    "-----------------------------\n",
    "The dataset contains the following variables:\n",
    "1. wage   : weekly wage\n",
    "2. female : female dummy\n",
    "3. cg     : college Graduate Dummy\n",
    "4. sc     : some college dummy\n",
    "5. hsg    : High School graduate dummy\n",
    "6. mw     : mid-west dummy\n",
    "7. so     : south dummy\n",
    "8. we     : west dummy\n",
    "9. ne     : northeast dummy\n",
    "10. exp1   : experience(year)\n",
    "11. exp2   : experience squared (taken as experience squared/100)\n",
    "12. exp3   : experience cubed (taken as experience cubed/1000)"
   ]
  },
  {
   "cell_type": "markdown",
   "metadata": {
    "id": "bdIc1MFDTcwI"
   },
   "source": [
    "## **Importing the necessary libraries and overview of the dataset**"
   ]
  },
  {
   "cell_type": "code",
   "execution_count": 1,
   "metadata": {
    "id": "ABej_ECpK9uk"
   },
   "outputs": [],
   "source": [
    "#importing necessary libraries\n",
    "\n",
    "import numpy as np\n",
    "import pandas as pd\n",
    "import matplotlib.pyplot as plt\n",
    "import seaborn as sns\n",
    "#to ignore warnings\n",
    "import warnings\n",
    "warnings.filterwarnings('ignore')"
   ]
  },
  {
   "cell_type": "markdown",
   "metadata": {
    "id": "4Ht4btZDTgj6"
   },
   "source": [
    "### **Loading the data**"
   ]
  },
  {
   "cell_type": "code",
   "execution_count": 2,
   "metadata": {
    "id": "0vUchenFK9un"
   },
   "outputs": [],
   "source": [
    "# Load data\n",
    "df = pd.read_csv('gender_wage_gap.csv')"
   ]
  },
  {
   "cell_type": "code",
   "execution_count": 3,
   "metadata": {
    "colab": {
     "base_uri": "https://localhost:8080/",
     "height": 206
    },
    "id": "E87d5gt2K9un",
    "outputId": "08450616-365f-4b98-c455-f802cde23614"
   },
   "outputs": [
    {
     "data": {
      "text/html": [
       "<div>\n",
       "<style scoped>\n",
       "    .dataframe tbody tr th:only-of-type {\n",
       "        vertical-align: middle;\n",
       "    }\n",
       "\n",
       "    .dataframe tbody tr th {\n",
       "        vertical-align: top;\n",
       "    }\n",
       "\n",
       "    .dataframe thead th {\n",
       "        text-align: right;\n",
       "    }\n",
       "</style>\n",
       "<table border=\"1\" class=\"dataframe\">\n",
       "  <thead>\n",
       "    <tr style=\"text-align: right;\">\n",
       "      <th></th>\n",
       "      <th>female</th>\n",
       "      <th>cg</th>\n",
       "      <th>sc</th>\n",
       "      <th>hsg</th>\n",
       "      <th>mw</th>\n",
       "      <th>so</th>\n",
       "      <th>we</th>\n",
       "      <th>ne</th>\n",
       "      <th>exp1</th>\n",
       "      <th>exp2</th>\n",
       "      <th>exp3</th>\n",
       "      <th>wage</th>\n",
       "    </tr>\n",
       "  </thead>\n",
       "  <tbody>\n",
       "    <tr>\n",
       "      <th>0</th>\n",
       "      <td>0</td>\n",
       "      <td>0</td>\n",
       "      <td>0</td>\n",
       "      <td>1</td>\n",
       "      <td>0</td>\n",
       "      <td>0</td>\n",
       "      <td>0</td>\n",
       "      <td>1</td>\n",
       "      <td>33.0</td>\n",
       "      <td>10.89</td>\n",
       "      <td>35.937</td>\n",
       "      <td>11.659091</td>\n",
       "    </tr>\n",
       "    <tr>\n",
       "      <th>1</th>\n",
       "      <td>0</td>\n",
       "      <td>1</td>\n",
       "      <td>0</td>\n",
       "      <td>0</td>\n",
       "      <td>0</td>\n",
       "      <td>0</td>\n",
       "      <td>0</td>\n",
       "      <td>1</td>\n",
       "      <td>27.0</td>\n",
       "      <td>7.29</td>\n",
       "      <td>19.683</td>\n",
       "      <td>12.825000</td>\n",
       "    </tr>\n",
       "    <tr>\n",
       "      <th>2</th>\n",
       "      <td>0</td>\n",
       "      <td>0</td>\n",
       "      <td>1</td>\n",
       "      <td>0</td>\n",
       "      <td>0</td>\n",
       "      <td>0</td>\n",
       "      <td>0</td>\n",
       "      <td>1</td>\n",
       "      <td>13.0</td>\n",
       "      <td>1.69</td>\n",
       "      <td>2.197</td>\n",
       "      <td>5.777027</td>\n",
       "    </tr>\n",
       "    <tr>\n",
       "      <th>3</th>\n",
       "      <td>0</td>\n",
       "      <td>1</td>\n",
       "      <td>0</td>\n",
       "      <td>0</td>\n",
       "      <td>0</td>\n",
       "      <td>0</td>\n",
       "      <td>0</td>\n",
       "      <td>1</td>\n",
       "      <td>2.0</td>\n",
       "      <td>0.04</td>\n",
       "      <td>0.008</td>\n",
       "      <td>12.468750</td>\n",
       "    </tr>\n",
       "    <tr>\n",
       "      <th>4</th>\n",
       "      <td>1</td>\n",
       "      <td>1</td>\n",
       "      <td>0</td>\n",
       "      <td>0</td>\n",
       "      <td>0</td>\n",
       "      <td>0</td>\n",
       "      <td>0</td>\n",
       "      <td>1</td>\n",
       "      <td>15.0</td>\n",
       "      <td>2.25</td>\n",
       "      <td>3.375</td>\n",
       "      <td>18.525000</td>\n",
       "    </tr>\n",
       "  </tbody>\n",
       "</table>\n",
       "</div>"
      ],
      "text/plain": [
       "   female  cg  sc  hsg  mw  so  we  ne  exp1   exp2    exp3       wage\n",
       "0       0   0   0    1   0   0   0   1  33.0  10.89  35.937  11.659091\n",
       "1       0   1   0    0   0   0   0   1  27.0   7.29  19.683  12.825000\n",
       "2       0   0   1    0   0   0   0   1  13.0   1.69   2.197   5.777027\n",
       "3       0   1   0    0   0   0   0   1   2.0   0.04   0.008  12.468750\n",
       "4       1   1   0    0   0   0   0   1  15.0   2.25   3.375  18.525000"
      ]
     },
     "execution_count": 3,
     "metadata": {},
     "output_type": "execute_result"
    }
   ],
   "source": [
    "# See variables in the dataset\n",
    "df.head()"
   ]
  },
  {
   "cell_type": "markdown",
   "metadata": {
    "id": "YM8u2ILOK9uo"
   },
   "source": [
    "### **Checking the info of the data**"
   ]
  },
  {
   "cell_type": "code",
   "execution_count": 4,
   "metadata": {
    "colab": {
     "base_uri": "https://localhost:8080/"
    },
    "id": "9BJBcsLQK9uo",
    "outputId": "f494d740-810d-4f0f-ff13-afe51d176ffd"
   },
   "outputs": [
    {
     "name": "stdout",
     "output_type": "stream",
     "text": [
      "<class 'pandas.core.frame.DataFrame'>\n",
      "RangeIndex: 3835 entries, 0 to 3834\n",
      "Data columns (total 12 columns):\n",
      " #   Column  Non-Null Count  Dtype  \n",
      "---  ------  --------------  -----  \n",
      " 0   female  3835 non-null   int64  \n",
      " 1   cg      3835 non-null   int64  \n",
      " 2   sc      3835 non-null   int64  \n",
      " 3   hsg     3835 non-null   int64  \n",
      " 4   mw      3835 non-null   int64  \n",
      " 5   so      3835 non-null   int64  \n",
      " 6   we      3835 non-null   int64  \n",
      " 7   ne      3835 non-null   int64  \n",
      " 8   exp1    3835 non-null   float64\n",
      " 9   exp2    3835 non-null   float64\n",
      " 10  exp3    3835 non-null   float64\n",
      " 11  wage    3835 non-null   float64\n",
      "dtypes: float64(4), int64(8)\n",
      "memory usage: 359.7 KB\n"
     ]
    }
   ],
   "source": [
    "# Checking info of the dataset\n",
    "df.info()"
   ]
  },
  {
   "cell_type": "markdown",
   "metadata": {
    "id": "cUBkFtkMK9uo"
   },
   "source": [
    "**Observations:**\n",
    "- The dataset has 3835 observations and 12 different variables.\n",
    "- There is no missing value in the dataset. \n",
    "- All of the dummy variables (cg, sc, hsg, etc.) have the datatype as int. They are binary variables having values of 0 and 1."
   ]
  },
  {
   "cell_type": "markdown",
   "metadata": {
    "id": "1CWBRPvaTv5h"
   },
   "source": [
    "## **Univariate Analysis**"
   ]
  },
  {
   "cell_type": "markdown",
   "metadata": {
    "id": "U4mJnrMFK9up"
   },
   "source": [
    "### **Checking the summary statistics of the dataset**"
   ]
  },
  {
   "cell_type": "code",
   "execution_count": 6,
   "metadata": {
    "colab": {
     "base_uri": "https://localhost:8080/",
     "height": 426
    },
    "id": "ba4XyfdzK9up",
    "outputId": "041cbcae-d9de-45b2-a1b1-3ba37647753a"
   },
   "outputs": [
    {
     "data": {
      "text/html": [
       "<div>\n",
       "<style scoped>\n",
       "    .dataframe tbody tr th:only-of-type {\n",
       "        vertical-align: middle;\n",
       "    }\n",
       "\n",
       "    .dataframe tbody tr th {\n",
       "        vertical-align: top;\n",
       "    }\n",
       "\n",
       "    .dataframe thead th {\n",
       "        text-align: right;\n",
       "    }\n",
       "</style>\n",
       "<table border=\"1\" class=\"dataframe\">\n",
       "  <thead>\n",
       "    <tr style=\"text-align: right;\">\n",
       "      <th></th>\n",
       "      <th>count</th>\n",
       "      <th>mean</th>\n",
       "      <th>std</th>\n",
       "      <th>min</th>\n",
       "      <th>25%</th>\n",
       "      <th>50%</th>\n",
       "      <th>75%</th>\n",
       "      <th>max</th>\n",
       "    </tr>\n",
       "  </thead>\n",
       "  <tbody>\n",
       "    <tr>\n",
       "      <th>female</th>\n",
       "      <td>3835.0</td>\n",
       "      <td>0.417992</td>\n",
       "      <td>0.493293</td>\n",
       "      <td>0.000000</td>\n",
       "      <td>0.00000</td>\n",
       "      <td>0.000000</td>\n",
       "      <td>1.000000</td>\n",
       "      <td>1.000000</td>\n",
       "    </tr>\n",
       "    <tr>\n",
       "      <th>cg</th>\n",
       "      <td>3835.0</td>\n",
       "      <td>0.376271</td>\n",
       "      <td>0.484513</td>\n",
       "      <td>0.000000</td>\n",
       "      <td>0.00000</td>\n",
       "      <td>0.000000</td>\n",
       "      <td>1.000000</td>\n",
       "      <td>1.000000</td>\n",
       "    </tr>\n",
       "    <tr>\n",
       "      <th>sc</th>\n",
       "      <td>3835.0</td>\n",
       "      <td>0.323859</td>\n",
       "      <td>0.468008</td>\n",
       "      <td>0.000000</td>\n",
       "      <td>0.00000</td>\n",
       "      <td>0.000000</td>\n",
       "      <td>1.000000</td>\n",
       "      <td>1.000000</td>\n",
       "    </tr>\n",
       "    <tr>\n",
       "      <th>hsg</th>\n",
       "      <td>3835.0</td>\n",
       "      <td>0.299870</td>\n",
       "      <td>0.458260</td>\n",
       "      <td>0.000000</td>\n",
       "      <td>0.00000</td>\n",
       "      <td>0.000000</td>\n",
       "      <td>1.000000</td>\n",
       "      <td>1.000000</td>\n",
       "    </tr>\n",
       "    <tr>\n",
       "      <th>mw</th>\n",
       "      <td>3835.0</td>\n",
       "      <td>0.287614</td>\n",
       "      <td>0.452709</td>\n",
       "      <td>0.000000</td>\n",
       "      <td>0.00000</td>\n",
       "      <td>0.000000</td>\n",
       "      <td>1.000000</td>\n",
       "      <td>1.000000</td>\n",
       "    </tr>\n",
       "    <tr>\n",
       "      <th>so</th>\n",
       "      <td>3835.0</td>\n",
       "      <td>0.243546</td>\n",
       "      <td>0.429278</td>\n",
       "      <td>0.000000</td>\n",
       "      <td>0.00000</td>\n",
       "      <td>0.000000</td>\n",
       "      <td>0.000000</td>\n",
       "      <td>1.000000</td>\n",
       "    </tr>\n",
       "    <tr>\n",
       "      <th>we</th>\n",
       "      <td>3835.0</td>\n",
       "      <td>0.211734</td>\n",
       "      <td>0.408591</td>\n",
       "      <td>0.000000</td>\n",
       "      <td>0.00000</td>\n",
       "      <td>0.000000</td>\n",
       "      <td>0.000000</td>\n",
       "      <td>1.000000</td>\n",
       "    </tr>\n",
       "    <tr>\n",
       "      <th>ne</th>\n",
       "      <td>3835.0</td>\n",
       "      <td>0.257106</td>\n",
       "      <td>0.437095</td>\n",
       "      <td>0.000000</td>\n",
       "      <td>0.00000</td>\n",
       "      <td>0.000000</td>\n",
       "      <td>1.000000</td>\n",
       "      <td>1.000000</td>\n",
       "    </tr>\n",
       "    <tr>\n",
       "      <th>exp1</th>\n",
       "      <td>3835.0</td>\n",
       "      <td>13.353194</td>\n",
       "      <td>8.639348</td>\n",
       "      <td>2.000000</td>\n",
       "      <td>6.00000</td>\n",
       "      <td>11.000000</td>\n",
       "      <td>19.500000</td>\n",
       "      <td>35.000000</td>\n",
       "    </tr>\n",
       "    <tr>\n",
       "      <th>exp2</th>\n",
       "      <td>3835.0</td>\n",
       "      <td>2.529267</td>\n",
       "      <td>2.910554</td>\n",
       "      <td>0.040000</td>\n",
       "      <td>0.36000</td>\n",
       "      <td>1.210000</td>\n",
       "      <td>3.802500</td>\n",
       "      <td>12.250000</td>\n",
       "    </tr>\n",
       "    <tr>\n",
       "      <th>exp3</th>\n",
       "      <td>3835.0</td>\n",
       "      <td>5.812103</td>\n",
       "      <td>9.033207</td>\n",
       "      <td>0.008000</td>\n",
       "      <td>0.21600</td>\n",
       "      <td>1.331000</td>\n",
       "      <td>7.414875</td>\n",
       "      <td>42.875000</td>\n",
       "    </tr>\n",
       "    <tr>\n",
       "      <th>wage</th>\n",
       "      <td>3835.0</td>\n",
       "      <td>15.533356</td>\n",
       "      <td>13.518165</td>\n",
       "      <td>0.004275</td>\n",
       "      <td>9.61875</td>\n",
       "      <td>13.028571</td>\n",
       "      <td>17.812500</td>\n",
       "      <td>348.333017</td>\n",
       "    </tr>\n",
       "  </tbody>\n",
       "</table>\n",
       "</div>"
      ],
      "text/plain": [
       "         count       mean        std       min      25%        50%        75%  \\\n",
       "female  3835.0   0.417992   0.493293  0.000000  0.00000   0.000000   1.000000   \n",
       "cg      3835.0   0.376271   0.484513  0.000000  0.00000   0.000000   1.000000   \n",
       "sc      3835.0   0.323859   0.468008  0.000000  0.00000   0.000000   1.000000   \n",
       "hsg     3835.0   0.299870   0.458260  0.000000  0.00000   0.000000   1.000000   \n",
       "mw      3835.0   0.287614   0.452709  0.000000  0.00000   0.000000   1.000000   \n",
       "so      3835.0   0.243546   0.429278  0.000000  0.00000   0.000000   0.000000   \n",
       "we      3835.0   0.211734   0.408591  0.000000  0.00000   0.000000   0.000000   \n",
       "ne      3835.0   0.257106   0.437095  0.000000  0.00000   0.000000   1.000000   \n",
       "exp1    3835.0  13.353194   8.639348  2.000000  6.00000  11.000000  19.500000   \n",
       "exp2    3835.0   2.529267   2.910554  0.040000  0.36000   1.210000   3.802500   \n",
       "exp3    3835.0   5.812103   9.033207  0.008000  0.21600   1.331000   7.414875   \n",
       "wage    3835.0  15.533356  13.518165  0.004275  9.61875  13.028571  17.812500   \n",
       "\n",
       "               max  \n",
       "female    1.000000  \n",
       "cg        1.000000  \n",
       "sc        1.000000  \n",
       "hsg       1.000000  \n",
       "mw        1.000000  \n",
       "so        1.000000  \n",
       "we        1.000000  \n",
       "ne        1.000000  \n",
       "exp1     35.000000  \n",
       "exp2     12.250000  \n",
       "exp3     42.875000  \n",
       "wage    348.333017  "
      ]
     },
     "execution_count": 6,
     "metadata": {},
     "output_type": "execute_result"
    }
   ],
   "source": [
    "# Printing the summary statistics for the dataset\n",
    "df.describe().T"
   ]
  },
  {
   "cell_type": "markdown",
   "metadata": {
    "id": "_GBegabkK9uq"
   },
   "source": [
    "**Observations:**\n",
    "- The average wage is about 15 dollars per hour while the maximum wage is 348, which is very high.\n",
    "- 42% of workers are women.\n",
    "- The average experience is 13 years, with the minimum and maximum being 2 and 35 years, respectively, indicating that the data is diversified and drawn from various experience groups.\n",
    "- 38% of the people in the data are college graduates. \n",
    "- 32% have gone to some college, and 30% hold only high school diploma.\n",
    "- You can also see geographical distribution of workers across major geographical regions of the states, and seem to be nearly same between 22-28%, which again shows maybe data is collected from different regions in a uniform manner. "
   ]
  },
  {
   "cell_type": "code",
   "execution_count": 51,
   "metadata": {},
   "outputs": [
    {
     "data": {
      "text/plain": [
       "0    475\n",
       "1    240\n",
       "Name: female, dtype: int64"
      ]
     },
     "execution_count": 51,
     "metadata": {},
     "output_type": "execute_result"
    }
   ],
   "source": [
    "df[df['wage']>20]['female'].value_counts()"
   ]
  },
  {
   "cell_type": "code",
   "execution_count": 10,
   "metadata": {},
   "outputs": [
    {
     "data": {
      "text/plain": [
       "0    2232\n",
       "1    1603\n",
       "Name: female, dtype: int64"
      ]
     },
     "execution_count": 10,
     "metadata": {},
     "output_type": "execute_result"
    }
   ],
   "source": [
    "df['female'].value_counts()"
   ]
  },
  {
   "cell_type": "code",
   "execution_count": 13,
   "metadata": {},
   "outputs": [
    {
     "data": {
      "text/plain": [
       "<AxesSubplot:>"
      ]
     },
     "execution_count": 13,
     "metadata": {},
     "output_type": "execute_result"
    },
    {
     "data": {
      "image/png": "[encoded data removed]",
      "text/plain": [
       "<Figure size 432x288 with 1 Axes>"
      ]
     },
     "metadata": {
      "needs_background": "light"
     },
     "output_type": "display_data"
    }
   ],
   "source": [
    "df['female'].value_counts().plot(kind='bar',rot=0)"
   ]
  },
  {
   "cell_type": "code",
   "execution_count": 48,
   "metadata": {},
   "outputs": [
    {
     "data": {
      "text/plain": [
       "<seaborn.axisgrid.FacetGrid at 0x7fa148fe3a00>"
      ]
     },
     "execution_count": 48,
     "metadata": {},
     "output_type": "execute_result"
    },
    {
     "data": {
      "image/png": "[encoded data removed]",
      "text/plain": [
       "<Figure size 402.5x360 with 1 Axes>"
      ]
     },
     "metadata": {
      "needs_background": "light"
     },
     "output_type": "display_data"
    }
   ],
   "source": [
    "sns.displot(df, x =\"wage\", hue = \"female\", kind = \"kde\", fill = \"True\")"
   ]
  },
  {
   "cell_type": "markdown",
   "metadata": {
    "id": "6CnH31i7K9ur"
   },
   "source": [
    "### **As the goal of this case study is to analyse the gender wage gap, let's look at the statistics of all columns for both female and male.**"
   ]
  },
  {
   "cell_type": "code",
   "execution_count": 43,
   "metadata": {
    "colab": {
     "base_uri": "https://localhost:8080/"
    },
    "id": "O9ysvKcPK9ur",
    "outputId": "c264c383-89d8-4ca9-f2a4-9584125e7741"
   },
   "outputs": [
    {
     "data": {
      "text/plain": [
       "female     1.000000\n",
       "cg         0.406114\n",
       "sc         0.354336\n",
       "hsg        0.239551\n",
       "mw         0.291329\n",
       "so         0.255147\n",
       "we         0.198378\n",
       "ne         0.255147\n",
       "exp1      13.037118\n",
       "exp2       2.449453\n",
       "exp3       5.599297\n",
       "wage      14.720058\n",
       "dtype: float64"
      ]
     },
     "execution_count": 43,
     "metadata": {},
     "output_type": "execute_result"
    }
   ],
   "source": [
    "# Mean value of all females\n",
    "df[df['female'] == 1].mean()"
   ]
  },
  {
   "cell_type": "code",
   "execution_count": 44,
   "metadata": {
    "colab": {
     "base_uri": "https://localhost:8080/"
    },
    "id": "J7xjWPV3K9ur",
    "outputId": "263cd0f0-9be0-481a-cb85-035bbb1a77ef"
   },
   "outputs": [
    {
     "data": {
      "text/plain": [
       "female     0.000000\n",
       "cg         0.354839\n",
       "sc         0.301971\n",
       "hsg        0.343190\n",
       "mw         0.284946\n",
       "so         0.235215\n",
       "we         0.221326\n",
       "ne         0.258513\n",
       "exp1      13.580197\n",
       "exp2       2.586588\n",
       "exp3       5.964938\n",
       "wage      16.117458\n",
       "dtype: float64"
      ]
     },
     "execution_count": 44,
     "metadata": {},
     "output_type": "execute_result"
    }
   ],
   "source": [
    "# Mean value of all males\n",
    "df[df['female'] == 0].mean()"
   ]
  },
  {
   "cell_type": "markdown",
   "metadata": {
    "id": "DxEFCq2gK9ur"
   },
   "source": [
    "**Observations:**\n",
    "- We first take a look at the following descriptive statistics for the subsamples of single men and single women, with educational attainment equal to high-school, some college, or college.\n",
    "- The mean hourly wage is 16 dollars for men and about 15 dollars for women, so the difference is 1, without controlling for job-relevant characteristics.\n",
    "- If we take a look at some of these characteristics, we see that on average men have more experience, but women are more likely to have college degrees or some college education. \n",
    "- Geographical distribution of both men and women is similar."
   ]
  },
  {
   "cell_type": "markdown",
   "metadata": {
    "id": "AgSPnXQVK9us"
   },
   "source": [
    "### **Basic Model**"
   ]
  },
  {
   "cell_type": "code",
   "execution_count": 9,
   "metadata": {
    "colab": {
     "base_uri": "https://localhost:8080/"
    },
    "id": "7x3uF3jHK9us",
    "outputId": "ed6f93f7-f63f-4ddf-8643-02ffac9b2fb1",
    "scrolled": false
   },
   "outputs": [
    {
     "name": "stdout",
     "output_type": "stream",
     "text": [
      "                            OLS Regression Results                            \n",
      "==============================================================================\n",
      "Dep. Variable:                   wage   R-squared:                       0.095\n",
      "Model:                            OLS   Adj. R-squared:                  0.093\n",
      "Method:                 Least Squares   F-statistic:                     44.87\n",
      "Date:                Sat, 07 May 2022   Prob (F-statistic):           3.17e-77\n",
      "Time:                        05:58:06   Log-Likelihood:                -15235.\n",
      "No. Observations:                3835   AIC:                         3.049e+04\n",
      "Df Residuals:                    3825   BIC:                         3.055e+04\n",
      "Df Model:                           9                                         \n",
      "Covariance Type:            nonrobust                                         \n",
      "==============================================================================\n",
      "                 coef    std err          t      P>|t|      [0.025      0.975]\n",
      "------------------------------------------------------------------------------\n",
      "const          4.9154      1.299      3.784      0.000       2.368       7.462\n",
      "female        -1.8264      0.425     -4.302      0.000      -2.659      -0.994\n",
      "sc             2.4865      0.534      4.654      0.000       1.439       3.534\n",
      "cg             9.8708      0.562     17.567      0.000       8.769      10.972\n",
      "mw            -1.2142      0.566     -2.146      0.032      -2.323      -0.105\n",
      "so             0.4046      0.588      0.688      0.491      -0.748       1.558\n",
      "we            -0.2508      0.611     -0.410      0.682      -1.449       0.947\n",
      "exp1           1.0965      0.269      4.077      0.000       0.569       1.624\n",
      "exp2          -4.0134      1.785     -2.248      0.025      -7.514      -0.513\n",
      "exp3           0.4603      0.344      1.340      0.180      -0.213       1.134\n",
      "==============================================================================\n",
      "Omnibus:                     6626.018   Durbin-Watson:                   1.958\n",
      "Prob(Omnibus):                  0.000   Jarque-Bera (JB):          8721375.159\n",
      "Skew:                          11.808   Prob(JB):                         0.00\n",
      "Kurtosis:                     235.426   Cond. No.                         198.\n",
      "==============================================================================\n",
      "\n",
      "Warnings:\n",
      "[1] Standard Errors assume that the covariance matrix of the errors is correctly specified.\n"
     ]
    }
   ],
   "source": [
    "####################  Linear and Quadratic specifications ##############################\n",
    "\n",
    "# Wage linear regression\n",
    "import statsmodels.api as sm\n",
    "Y = df['wage'] # target variable\n",
    "X = df[['female' , 'sc', 'cg', 'mw' , 'so' , 'we' , 'exp1' , 'exp2' , 'exp3']] #regressors\n",
    "X = sm.add_constant(X) # adding constant for intercept\n",
    "model = sm.OLS(Y, X)\n",
    "results = model.fit() # train the model\n",
    "print(results.summary()) # summary of the model"
   ]
  },
  {
   "cell_type": "markdown",
   "metadata": {
    "id": "fojo8x2pK9us"
   },
   "source": [
    "**Observations:**\n",
    "- Model performance is very poor as the r squared is very low. \n",
    "- We can see that cg graduate have high coefficient which signifies that graduated people are getting high wages.\n",
    "- On the other hand exp2 has a negative coefficient which means for exp2 the wages are less. \n",
    "- Coefficient of the female indicator is negative, signifies that females are getting lower wages. "
   ]
  },
  {
   "cell_type": "markdown",
   "metadata": {
    "id": "LxbBxkqCK9uv"
   },
   "source": [
    "### **Conclusion:**\n",
    "- We have applied the ideas we have discussed so far to learn about the gender wage gap.\n",
    "- The gender wage gap may partly reflect genuine discrimination against women in the labor market.\n",
    "- It may also partly reflect the so-called selection effect, namely that women are more likely to end up in occupations that pay somewhat less (for example, school teachers)."
   ]
  }
 ],
 "metadata": {
  "colab": {
   "collapsed_sections": [],
   "name": "Case Study 2.ipynb",
   "provenance": []
  },
  "kernelspec": {
   "display_name": "Python 3 (ipykernel)",
   "language": "python",
   "name": "python3"
  },
  "language_info": {
   "codemirror_mode": {
    "name": "ipython",
    "version": 3
   },
   "file_extension": ".py",
   "mimetype": "text/x-python",
   "name": "python",
   "nbconvert_exporter": "python",
   "pygments_lexer": "ipython3",
   "version": "3.9.12"
  }
 },
 "nbformat": 4,
 "nbformat_minor": 1
}
